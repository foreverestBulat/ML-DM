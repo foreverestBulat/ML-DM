{
 "cells": [
  {
   "cell_type": "markdown",
   "metadata": {},
   "source": [
    "# Housing Prices Competition for Kaggle\n",
    "\n",
    "## Description\n",
    "\n",
    "Попросите покупателя жилья описать дом своей мечты, и он, скорее всего, не начнёт с высоты потолка в подвале или близости к железной дороге, идущей с востока на запад. Ноданные, собранные в рамках этого конкурса, доказывают, что на ценовые переговоры влияет гораздо больше факторов, чем количество спален или белый забор.\n",
    "\n",
    "В этом соревновании вам предстоит спрогнозировать окончательную стоимость каждого дома с помощью 79 объясняющих переменных, описывающих (почти) все аспекты жилых домов в Эймсе, штат Айова.\n",
    "\n",
    "# Оценка\n",
    "## Цель\n",
    "Ваша задача — предсказать цену продажи каждого дома. Для каждого идентификатора в тестовом наборе вы должны предсказать значение переменной SalePrice.\n",
    "\n",
    "## Метрический\n",
    "Результаты оцениваются по среднеквадратичной ошибке (RMSE) между логарифмом прогнозируемого значения и логарифмом наблюдаемой цены продажи. (Использование логарифмов означает, что ошибки в прогнозировании цен на дорогие и дешёвые дома одинаково повлияют на результат.)\n",
    "\n",
    "# About Data\n",
    "## Описания файлов\n",
    "\n",
    "- train.csv - обучающий набор\n",
    "- test.csv - набор тестов\n",
    "- data_description.txt — полное описание каждого столбца, изначально подготовленное Дином Де Коком, но слегка отредактированное в соответствии с используемыми здесь названиями столбцов\n",
    "- sample_submission.csv — эталонная подача данных для линейной регрессии по году и месяцу продажи, площади участка и количеству спален\n",
    "\n",
    "## Поля данных\n",
    "Вот краткий обзор того, что вы найдёте в файле с описанием данных.\n",
    "\n",
    "- Цена продажи — цена продажи недвижимости в долларах. Это целевая переменная, которую вы пытаетесь спрогнозировать.\n",
    "- MSSubClass: Строительный класс\n",
    "- MSZoning: Общая классификация зонирования\n",
    "- LotFrontage: Линейные метры улицы, соединенные с недвижимостью\n",
    "- LotArea: Размер участка в квадратных футах\n",
    "- Street: Тип подъездной дороги\n",
    "- Alley: Тип доступа к переулку\n",
    "- LotShape: Общая форма собственности\n",
    "- Land Countur: Ровность участка\n",
    "- Utilities: Тип доступных утилит\n",
    "- LotConfig: Конфигурация лота\n",
    "- LandSlope: Уклон участка\n",
    "- Окрестности: Физические местоположения в пределах города Эймс\n",
    "- Условие 1: Близость к главной дороге или железной дороге\n",
    "- Условие 2: близость к главной дороге или железной дороге (если есть вторая)\n",
    "- Тип здания: Тип жилого помещения\n",
    "- Стиль дома: Стиль жилья\n",
    "- Общее качество: Общее качество материала и отделки\n",
    "- Общее состояние: Общая оценка состояния\n",
    "- Год постройки: Первоначальная дата постройки\n",
    "- YearRemodAdd: Дата реконструкции\n",
    "- Стиль крыши: Тип крыши\n",
    "- Кровельный материал: Кровельный материал\n",
    "- Экстерьер1st: Наружное покрытие дома\n",
    "- Внешняя отделка 2-го уровня: внешняя отделка дома (если используется более одного материала)\n",
    "- MasVnrType: Тип облицовки каменной кладки\n",
    "- Площадь облицовки: Площадь облицовки каменной кладки в квадратных футах\n",
    "- Внешнее качество: Качество наружных материалов\n",
    "- Внешний вид: Текущее состояние материала на внешней поверхности\n",
    "- Фундамент: Тип фундамента\n",
    "- BsmtQual: Высота подвала\n",
    "- BsmtCond: Общее состояние подвала\n",
    "- BsmtExposure: Стены подвала на уровне выхода или сада\n",
    "- BsmtFinType1: Качество отделки подвала\n",
    "- BsmtFinSF1: Готовые квадратные футы типа 1\n",
    "- BsmtFinType2: качество второй готовой поверхности (при наличии)\n",
    "- BsmtFinSF2: Готовые квадратные футы 2-го типа\n",
    "- BsmtUnfSF: Незаконченные квадратные футы подвальной площади\n",
    "- TotalBsmtSF: Общая площадь подвала в квадратных футах\n",
    "- Отопление: Тип отопления\n",
    "- HeatingQC: Качество и состояние отопления\n",
    "- CentralAir: Центральное кондиционирование воздуха\n",
    "- Электрическое: Электрическая система\n",
    "- 1stFlrSF: Площадь первого этажа в квадратных футах\n",
    "- 2ndFlrSF: Площадь второго этажа в квадратных футах\n",
    "- Низкое качество: Квадратные метры с отделкой низкого качества (все этажи)\n",
    "- Жилая площадь: Надземная жилая площадь в квадратных футах\n",
    "- BsmtFullBath: Ванные комнаты на цокольном этаже\n",
    "- BsmtHalfBath: Половина ванных комнат на цокольном этаже\n",
    "- Полная ванна: Полноценные ванные комнаты высшего класса\n",
    "- Полуванны: Полуванны высшего сорта\n",
    "- Спальня: Количество спален выше уровня цокольного этажа\n",
    "- Кухня: Количество кухонь\n",
    "- Качество кухни: Качество кухни\n",
    "- TotRmsAbvGrd: общее количество комнат над уровнем земли (без учёта ванных комнат)\n",
    "- Функциональный: Рейтинг функциональности дома\n",
    "- Камины: Количество каминов\n",
    "- FireplaceQu: Качество камина\n",
    "- Тип гаража: Расположение гаража\n",
    "- GarageYrBlt: Год постройки гаража\n",
    "- GarageFinish: Внутренняя отделка гаража\n",
    "- Гаражные машины: Размер гаража в пересчете на вместимость автомобиля\n",
    "- Площадь гаража: Размер гаража в квадратных футах\n",
    "- GarageQual: Качество гаража\n",
    "- GarageCond: Состояние гаража\n",
    "- Асфальтированная подъездная дорога: Асфальтированная подъездная дорожка\n",
    "- WoodDeckSF: Площадь деревянного настила в квадратных футах\n",
    "- OpenPorchSF: Площадь открытой веранды в квадратных футах\n",
    "- Закрытая веранда: Площадь закрытой веранды в квадратных футах\n",
    "- 3SsnPorch: Площадь веранды на три сезона в квадратных футах\n",
    "- ScreenPorch: Площадь крыльца с экраном в квадратных футах\n",
    "- Площадь бассейна: Площадь бассейна в квадратных футах\n",
    "- PoolQC: Качество пула\n",
    "- Забор: Качество забора\n",
    "- Неправильная функция: Разные функции, не включенные в другие категории\n",
    "- MiscVal: $ Значение разной функции\n",
    "- MoSold: Месяц Продано\n",
    "- Год продажи: Год Продажи\n",
    "- Тип продажи: Тип продажи\n",
    "- Условия продажи: Условия продажи"
   ]
  },
  {
   "cell_type": "markdown",
   "metadata": {},
   "source": [
    "# Code"
   ]
  },
  {
   "cell_type": "code",
   "execution_count": 51,
   "metadata": {},
   "outputs": [],
   "source": [
    "import pandas as pd\n",
    "import numpy as np\n",
    "from sklearn.tree import DecisionTreeRegressor\n",
    "from sklearn.ensemble import RandomForestRegressor\n",
    "from sklearn.ensemble import GradientBoostingRegressor\n",
    "from sklearn.linear_model import LinearRegression\n",
    "from sklearn.metrics import mean_squared_error\n",
    "from sklearn.model_selection import train_test_split\n",
    "from sklearn.preprocessing import StandardScaler\n",
    "import matplotlib.pyplot as plt\n",
    "import seaborn as sns\n",
    "from sklearn.metrics import mean_absolute_error, mean_squared_error, r2_score\n",
    "from scipy.stats import skew"
   ]
  },
  {
   "cell_type": "code",
   "execution_count": 52,
   "metadata": {},
   "outputs": [],
   "source": [
    "train_path = 'data/Housing Prices Competition/train.csv'\n",
    "test_path = 'data/Housing Prices Competition/test.csv'\n",
    "sample_submission_path = 'data/Housing Prices Competition/sample_submission.csv'\n",
    "\n",
    "train_data = pd.read_csv(train_path)\n",
    "test_data = pd.read_csv(test_path)\n",
    "sample_submission_data = pd.read_csv(sample_submission_path)"
   ]
  },
  {
   "cell_type": "markdown",
   "metadata": {},
   "source": [
    "## One-Hot Encoding"
   ]
  },
  {
   "cell_type": "code",
   "execution_count": 53,
   "metadata": {},
   "outputs": [
    {
     "name": "stderr",
     "output_type": "stream",
     "text": [
      "/tmp/ipykernel_5875/3279366724.py:11: FutureWarning: A value is trying to be set on a copy of a DataFrame or Series through chained assignment using an inplace method.\n",
      "The behavior will change in pandas 3.0. This inplace method will never work because the intermediate object on which we are setting values always behaves as a copy.\n",
      "\n",
      "For example, when doing 'df[col].method(value, inplace=True)', try using 'df.method({col: value}, inplace=True)' or df[col] = df[col].method(value) instead, to perform the operation inplace on the original object.\n",
      "\n",
      "\n",
      "  train_data[col].fillna(train_data[col].mean(), inplace=True)\n"
     ]
    }
   ],
   "source": [
    "train_data = pd.get_dummies(train_data)\n",
    "\n",
    "columns = train_data.columns.to_list()\n",
    "has_nulls = train_data.isnull().any().to_list()\n",
    "\n",
    "for col, has_null in zip(columns, has_nulls):\n",
    "    if has_null:\n",
    "        if '_' in col:\n",
    "            train_data[col].fillna(train_data[col].mode(), inplace=True)\n",
    "        else:\n",
    "            train_data[col].fillna(train_data[col].mean(), inplace=True)"
   ]
  },
  {
   "cell_type": "markdown",
   "metadata": {},
   "source": [
    "## Выявление признаков с высокой корреляцией и мердж с важными признаками"
   ]
  },
  {
   "cell_type": "code",
   "execution_count": 55,
   "metadata": {},
   "outputs": [
    {
     "name": "stdout",
     "output_type": "stream",
     "text": [
      "Признаки с корреляцией выше 0.2 с SalePrice:\n",
      "Index(['LotFrontage', 'LotArea', 'OverallQual', 'YearBuilt', 'YearRemodAdd',\n",
      "       'MasVnrArea', 'BsmtFinSF1', 'BsmtUnfSF', 'TotalBsmtSF', '1stFlrSF',\n",
      "       '2ndFlrSF', 'GrLivArea', 'BsmtFullBath', 'FullBath', 'HalfBath',\n",
      "       'TotRmsAbvGrd', 'Fireplaces', 'GarageYrBlt', 'GarageCars', 'GarageArea',\n",
      "       'WoodDeckSF', 'OpenPorchSF', 'MSZoning_RL', 'MSZoning_RM',\n",
      "       'LotShape_IR1', 'LotShape_Reg', 'Neighborhood_NoRidge',\n",
      "       'Neighborhood_NridgHt', 'Neighborhood_StoneBr', 'HouseStyle_2Story',\n",
      "       'RoofStyle_Gable', 'RoofStyle_Hip', 'Exterior1st_VinylSd',\n",
      "       'Exterior2nd_VinylSd', 'MasVnrType_Stone', 'ExterQual_Ex',\n",
      "       'ExterQual_Gd', 'ExterQual_TA', 'Foundation_BrkTil',\n",
      "       'Foundation_CBlock', 'Foundation_PConc', 'BsmtQual_Ex', 'BsmtQual_Gd',\n",
      "       'BsmtQual_TA', 'BsmtExposure_Gd', 'BsmtExposure_No', 'BsmtFinType1_GLQ',\n",
      "       'HeatingQC_Ex', 'HeatingQC_TA', 'CentralAir_N', 'CentralAir_Y',\n",
      "       'Electrical_SBrkr', 'KitchenQual_Ex', 'KitchenQual_Gd',\n",
      "       'KitchenQual_TA', 'FireplaceQu_Ex', 'FireplaceQu_Gd',\n",
      "       'GarageType_Attchd', 'GarageType_BuiltIn', 'GarageType_Detchd',\n",
      "       'GarageFinish_Fin', 'GarageFinish_Unf', 'GarageQual_TA',\n",
      "       'GarageCond_TA', 'PavedDrive_N', 'PavedDrive_Y', 'SaleType_New',\n",
      "       'SaleType_WD', 'SaleCondition_Partial'],\n",
      "      dtype='object')\n"
     ]
    }
   ],
   "source": [
    "correlation_matrix = train_data.corr()\n",
    "\n",
    "threshold = 0.2\n",
    "target_variable = 'SalePrice'  # Замените на ваше название целевой переменной\n",
    "\n",
    "high_correlation_features = correlation_matrix[abs(correlation_matrix[target_variable]) > threshold]\n",
    "high_correlation_features = high_correlation_features[high_correlation_features.index != target_variable] #исключаем саму целевую переменную\n",
    "\n",
    "print(\"Признаки с корреляцией выше\", threshold, \"с\", target_variable + \":\")\n",
    "print(high_correlation_features.index)"
   ]
  },
  {
   "cell_type": "code",
   "execution_count": 56,
   "metadata": {},
   "outputs": [
    {
     "data": {
      "text/plain": [
       "['LotShape_IR1',\n",
       " 'Neighborhood_NoRidge',\n",
       " '2ndFlrSF',\n",
       " 'Neighborhood_NridgHt',\n",
       " 'RoofStyle_Hip',\n",
       " 'GarageType_BuiltIn',\n",
       " 'HeatingQC_TA',\n",
       " 'Electrical_SBrkr',\n",
       " 'BsmtQual_Gd',\n",
       " 'CentralAir_N',\n",
       " 'KitchenQual_TA',\n",
       " 'BsmtUnfSF',\n",
       " 'MasVnrArea',\n",
       " 'SaleCondition_Partial',\n",
       " 'LotShape_Reg',\n",
       " 'GarageYrBlt',\n",
       " 'Exterior2nd_VinylSd',\n",
       " 'BsmtQual_Ex',\n",
       " 'Foundation_BrkTil',\n",
       " 'KitchenQual_Ex',\n",
       " 'YearBuilt',\n",
       " 'Exterior1st_VinylSd',\n",
       " 'MasVnrType_Stone',\n",
       " 'PavedDrive_N',\n",
       " 'BsmtFullBath',\n",
       " 'FireplaceQu_Ex',\n",
       " '1stFlrSF',\n",
       " 'LotFrontage',\n",
       " 'ExterQual_Gd',\n",
       " 'GarageArea',\n",
       " 'ExterQual_Ex',\n",
       " 'HalfBath',\n",
       " 'GarageCars',\n",
       " 'CentralAir_Y',\n",
       " 'Neighborhood_StoneBr',\n",
       " 'Foundation_PConc',\n",
       " 'BsmtQual_TA',\n",
       " 'HouseStyle_2Story',\n",
       " 'RoofStyle_Gable',\n",
       " 'WoodDeckSF',\n",
       " 'BsmtFinType1_GLQ',\n",
       " 'Fireplaces',\n",
       " 'ExterQual_TA',\n",
       " 'GarageQual_TA',\n",
       " 'GarageFinish_Fin',\n",
       " 'BsmtExposure_Gd',\n",
       " 'LotArea',\n",
       " 'GarageFinish_Unf',\n",
       " 'PavedDrive_Y',\n",
       " 'GrLivArea',\n",
       " 'Foundation_CBlock',\n",
       " 'MSZoning_RL',\n",
       " 'TotRmsAbvGrd',\n",
       " 'GarageType_Attchd',\n",
       " 'TotalBsmtSF',\n",
       " 'YearRemodAdd',\n",
       " 'FireplaceQu_Gd',\n",
       " 'SaleType_New',\n",
       " 'GarageCond_TA',\n",
       " 'SaleType_WD',\n",
       " 'KitchenQual_Gd',\n",
       " 'FullBath',\n",
       " 'OpenPorchSF',\n",
       " 'MSZoning_RM',\n",
       " 'BsmtExposure_No',\n",
       " 'HeatingQC_Ex',\n",
       " 'OverallQual',\n",
       " 'GarageType_Detchd',\n",
       " 'BsmtFinSF1']"
      ]
     },
     "execution_count": 56,
     "metadata": {},
     "output_type": "execute_result"
    }
   ],
   "source": [
    "features = ['BsmtUnfSF', 'TotRmsAbvGrd', 'YearRemodAdd', 'LotFrontage', 'FullBath', 'YearBuilt', 'LotArea', \n",
    "'GarageArea', 'GarageCars', '1stFlrSF', 'BsmtFinSF1', '2ndFlrSF', 'TotalBsmtSF', 'GrLivArea', 'OverallQual', \n",
    "'Fireplaces', 'OpenPorchSF', 'GarageYrBlt', 'MasVnrArea', 'WoodDeckSF', 'HalfBath']\n",
    "\n",
    "\n",
    "features_with_important = list(set(features + high_correlation_features.index.to_list()))\n",
    "features_with_important\n"
   ]
  },
  {
   "cell_type": "markdown",
   "metadata": {},
   "source": [
    "## Моделирование"
   ]
  },
  {
   "cell_type": "code",
   "execution_count": 61,
   "metadata": {},
   "outputs": [],
   "source": [
    "features_for_model = features_with_important\n",
    "X = train_data[features_for_model]\n",
    "y = train_data[target_variable]\n",
    "\n",
    "X_train, X_test, y_train, y_test = train_test_split(X, y, test_size=0.2, random_state=42)\n",
    "\n",
    "y_log = np.log1p(train_data.SalePrice)\n",
    "\n",
    "y = np.expm1(y_log)"
   ]
  },
  {
   "cell_type": "code",
   "execution_count": 62,
   "metadata": {},
   "outputs": [
    {
     "name": "stdout",
     "output_type": "stream",
     "text": [
      "MAE: 20168.253064009812\n",
      "MSE: 1046473869.5980338\n",
      "R²: 0.8635685313334545\n"
     ]
    }
   ],
   "source": [
    "model_linear = LinearRegression()\n",
    "model_linear.fit(X_train, y_train)\n",
    "y_pred_linear = model_linear.predict(X_test)\n",
    "\n",
    "mae_linear = mean_absolute_error(y_test, y_pred_linear)\n",
    "mse_linear = mean_squared_error(y_test, y_pred_linear)\n",
    "r2_linear = r2_score(y_test, y_pred_linear)\n",
    "\n",
    "print(\"MAE:\", mae_linear)\n",
    "print(\"MSE:\", mse_linear)\n",
    "print(\"R²:\", r2_linear)"
   ]
  },
  {
   "cell_type": "code",
   "execution_count": 63,
   "metadata": {},
   "outputs": [
    {
     "name": "stdout",
     "output_type": "stream",
     "text": [
      "MAE: 17601.090719178083\n",
      "MSE: 784944088.238616\n",
      "R²: 0.897664836274744\n"
     ]
    }
   ],
   "source": [
    "model_forest = RandomForestRegressor(n_estimators=100, random_state=42)\n",
    "model_forest.fit(X_train, y_train)\n",
    "y_pred_forest = model_forest.predict(X_test)\n",
    "\n",
    "mae_forest = mean_absolute_error(y_test, y_pred_forest)\n",
    "mse_forest = mean_squared_error(y_test, y_pred_forest)\n",
    "r2_forest = r2_score(y_test, y_pred_forest)\n",
    "\n",
    "print(\"MAE:\", mae_forest)\n",
    "print(\"MSE:\", mse_forest)\n",
    "print(\"R²:\", r2_forest)"
   ]
  },
  {
   "cell_type": "code",
   "execution_count": 64,
   "metadata": {},
   "outputs": [
    {
     "name": "stdout",
     "output_type": "stream",
     "text": [
      "MAE: 178827.80443771856\n",
      "MSE: 39649649460.493805\n",
      "R²: -4.169225974162863\n"
     ]
    }
   ],
   "source": [
    "scaler = StandardScaler()\n",
    "X_scaled = scaler.fit_transform(X)\n",
    "y_log = np.log(train_data[target_variable])\n",
    "\n",
    "X_train_linear_log, X_test_linear_log, y_train_linear_log, y_test_linear_log = train_test_split(X, y_log, test_size=0.2, random_state=42)\n",
    "\n",
    "model_linear_log = LinearRegression()\n",
    "model_linear_log.fit(X_train_linear_log, y_train_linear_log)\n",
    "y_pred_linear_log = model_linear_log.predict(X_test_linear_log)\n",
    "\n",
    "mae_linear_log = mean_absolute_error(y_test, y_pred_linear_log)\n",
    "mse_linear_log = mean_squared_error(y_test, y_pred_linear_log)\n",
    "r2_linear_log = r2_score(y_test, y_pred_linear_log)\n",
    "\n",
    "print(\"MAE:\", mae_linear_log)\n",
    "print(\"MSE:\", mse_linear_log)\n",
    "print(\"R²:\", r2_linear_log)"
   ]
  },
  {
   "cell_type": "code",
   "execution_count": 65,
   "metadata": {},
   "outputs": [
    {
     "name": "stdout",
     "output_type": "stream",
     "text": [
      "Train MSE: 223076095.1333965\n",
      "Test MSE: 804068326.2714924\n"
     ]
    }
   ],
   "source": [
    "gb = GradientBoostingRegressor(n_estimators=100, learning_rate=0.1, max_depth=3)\n",
    "gb.fit(X_train, y_train)\n",
    "\n",
    "mse_train = mean_squared_error(y_train, gb.predict(X_train))\n",
    "mse_test = mean_squared_error(y_test, gb.predict(X_test))\n",
    "\n",
    "print(f\"Train MSE: {mse_train}\")\n",
    "print(f\"Test MSE: {mse_test}\")"
   ]
  },
  {
   "cell_type": "code",
   "execution_count": 66,
   "metadata": {},
   "outputs": [
    {
     "name": "stdout",
     "output_type": "stream",
     "text": [
      "MAE: 26386.746575342466\n",
      "MSE: 1648217900.3767123\n",
      "R²: 0.7851176265707805\n"
     ]
    }
   ],
   "source": [
    "from sklearn.tree import DecisionTreeRegressor\n",
    "\n",
    "clf = DecisionTreeRegressor()\n",
    "\n",
    "clf.fit(X_train, y_train)\n",
    "\n",
    "mae_linear_tree = mean_absolute_error(y_test, clf.predict(X_test))\n",
    "mse_linear_tree = mean_squared_error(y_test, clf.predict(X_test))\n",
    "r2_linear_tree = r2_score(y_test, clf.predict(X_test))\n",
    "\n",
    "print(\"MAE:\", mae_linear_tree)\n",
    "print(\"MSE:\", mse_linear_tree)\n",
    "print(\"R²:\", r2_linear_tree)"
   ]
  }
 ],
 "metadata": {
  "kernelspec": {
   "display_name": "venv",
   "language": "python",
   "name": "python3"
  },
  "language_info": {
   "codemirror_mode": {
    "name": "ipython",
    "version": 3
   },
   "file_extension": ".py",
   "mimetype": "text/x-python",
   "name": "python",
   "nbconvert_exporter": "python",
   "pygments_lexer": "ipython3",
   "version": "3.12.3"
  }
 },
 "nbformat": 4,
 "nbformat_minor": 2
}

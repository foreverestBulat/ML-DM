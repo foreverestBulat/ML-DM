{
 "cells": [
  {
   "cell_type": "code",
   "execution_count": 1,
   "metadata": {},
   "outputs": [],
   "source": [
    "import numpy as np\n",
    "import pandas as pd\n",
    "import matplotlib.pyplot as plt\n",
    "import seaborn as sns\n",
    "from sklearn.model_selection import train_test_split\n",
    "from sklearn.linear_model import LinearRegression\n",
    "from sklearn.metrics import mean_squared_error, r2_score\n",
    "from scipy.stats import probplot\n",
    "from sklearn.experimental import enable_iterative_imputer\n",
    "from sklearn.impute import SimpleImputer\n",
    "from sklearn.linear_model  import LinearRegression\n",
    "from sklearn.ensemble import RandomForestRegressor\n",
    "from sklearn.ensemble import GradientBoostingRegressor\n",
    "from sklearn.impute import KNNImputer"
   ]
  },
  {
   "cell_type": "code",
   "execution_count": 2,
   "metadata": {},
   "outputs": [],
   "source": [
    "train_path = 'data/Housing Prices Competition/train.csv'\n",
    "home_data = pd.read_csv(train_path)\n",
    "y = home_data.SalePrice"
   ]
  },
  {
   "cell_type": "code",
   "execution_count": 4,
   "metadata": {},
   "outputs": [],
   "source": [
    "# Create X (After completing the exercise, you can return to modify this line!)\n",
    "features = ['BsmtUnfSF', 'TotRmsAbvGrd', 'YearRemodAdd', 'LotFrontage', 'FullBath', 'YearBuilt', 'LotArea', \n",
    "'GarageArea', 'GarageCars', '1stFlrSF', 'BsmtFinSF1', '2ndFlrSF', 'TotalBsmtSF', 'GrLivArea', 'OverallQual', \n",
    "'Fireplaces', 'OpenPorchSF', 'GarageYrBlt', 'MasVnrArea', 'WoodDeckSF', 'HalfBath']\n",
    "\n",
    "X = home_data[features]\n",
    "X.head()\n",
    "\n",
    "object_columns = home_data.select_dtypes(include=['object'])\n",
    "object_columns['MSSubClass'] = home_data['MSSubClass']\n",
    "obj_cols = object_columns.drop(columns=['Alley', 'MasVnrType', 'FireplaceQu', 'PoolQC', 'Fence', 'MiscFeature'])\n",
    "\n",
    "imputer = KNNImputer(n_neighbors=5)\n",
    "\n",
    "obj_imputer = SimpleImputer(strategy='most_frequent')\n",
    "\n",
    "obj_cols_imputed = obj_imputer.fit_transform(obj_cols)\n",
    "\n",
    "obj_cols = pd.DataFrame(obj_cols_imputed, columns=obj_cols.columns)\n",
    "\n",
    "X_imputed = imputer.fit_transform(X)\n",
    "\n",
    "X = pd.DataFrame(X_imputed, columns=features)\n",
    "\n",
    "merge_x_obj_cols = pd.concat([X, obj_cols.reset_index(drop=True)], axis=1)"
   ]
  },
  {
   "cell_type": "code",
   "execution_count": 5,
   "metadata": {},
   "outputs": [
    {
     "name": "stdout",
     "output_type": "stream",
     "text": [
      "MSE после обратного преобразования: 36961789664.383934\n"
     ]
    }
   ],
   "source": [
    "# Применяем One-Hot Encoding для категориальных колонок\n",
    "X = pd.get_dummies(merge_x_obj_cols)\n",
    "\n",
    "y_log = np.log1p(home_data.SalePrice)\n",
    "\n",
    "X_train, X_test, y_train, y_test = train_test_split(X, y_log, test_size=0.2)\n",
    "\n",
    "y = np.expm1(y_log)\n",
    "\n",
    "lr = LinearRegression()\n",
    "lr.fit(X_train,  y_train)\n",
    "\n",
    "clf = RandomForestRegressor(n_estimators=100,  max_features=0.3)\n",
    "clf.fit(X_train, y_train)\n",
    "\n",
    "gb = GradientBoostingRegressor(n_estimators=100, learning_rate=0.1, max_depth=3)\n",
    "gb.fit(X_train, y_train)\n",
    "\n",
    "# Предсказания моделей в логарифмированной шкале\n",
    "lr_predictions_log = lr.predict(X_test)\n",
    "clf_predictions_log = clf.predict(X_test)\n",
    "\n",
    "min_mse = mean_squared_error(y_test, lr.predict(X_test))\n",
    "for i in range(100):\n",
    "    mse = mean_squared_error(y_test, (i*lr.predict(X_test) + (100 - i)*clf.predict(X_test))/100.0)\n",
    "    if mse < min_mse:\n",
    "        min_mse = mse\n",
    "        best_i = i\n",
    "\n",
    "# Комбинирование предсказаний (в логарифмированной шкале)\n",
    "combined_predictions_log = (best_i * lr_predictions_log + (100 - best_i) * clf_predictions_log) / 100.0\n",
    "\n",
    "# Обратное преобразование предсказаний (возврат к исходному масштабу)\n",
    "combined_predictions = np.exp(combined_predictions_log)\n",
    "\n",
    "# Вычисление MSE в исходном масштабе\n",
    "mse = mean_squared_error(y_test, combined_predictions)\n",
    "print(f\"MSE после обратного преобразования: {mse}\")"
   ]
  }
 ],
 "metadata": {
  "kernelspec": {
   "display_name": "venv",
   "language": "python",
   "name": "python3"
  },
  "language_info": {
   "codemirror_mode": {
    "name": "ipython",
    "version": 3
   },
   "file_extension": ".py",
   "mimetype": "text/x-python",
   "name": "python",
   "nbconvert_exporter": "python",
   "pygments_lexer": "ipython3",
   "version": "3.12.3"
  }
 },
 "nbformat": 4,
 "nbformat_minor": 2
}

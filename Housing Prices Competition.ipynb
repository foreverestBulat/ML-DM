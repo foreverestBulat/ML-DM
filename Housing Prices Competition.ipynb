{
 "cells": [
  {
   "cell_type": "markdown",
   "metadata": {},
   "source": [
    "# Housing Prices Competition for Kaggle"
   ]
  },
  {
   "cell_type": "markdown",
   "metadata": {},
   "source": [
    "# Description\n",
    "\n",
    "Попросите покупателя жилья описать дом своей мечты, и он, скорее всего, не начнёт с высоты потолка в подвале или близости к железной дороге, идущей с востока на запад. Ноданные, собранные в рамках этого конкурса, доказывают, что на ценовые переговоры влияет гораздо больше факторов, чем количество спален или белый забор.\n",
    "\n",
    "В этом соревновании вам предстоит спрогнозировать окончательную стоимость каждого дома с помощью 79 объясняющих переменных, описывающих (почти) все аспекты жилых домов в Эймсе, штат Айова."
   ]
  },
  {
   "cell_type": "markdown",
   "metadata": {},
   "source": [
    "# Оценка\n",
    "## Цель\n",
    "Ваша задача — предсказать цену продажи каждого дома. Для каждого идентификатора в тестовом наборе вы должны предсказать значение переменной SalePrice.\n",
    "\n",
    "## Метрический\n",
    "Результаты оцениваются по среднеквадратичной ошибке (RMSE) между логарифмом прогнозируемого значения и логарифмом наблюдаемой цены продажи. (Использование логарифмов означает, что ошибки в прогнозировании цен на дорогие и дешёвые дома одинаково повлияют на результат.)"
   ]
  },
  {
   "cell_type": "markdown",
   "metadata": {},
   "source": [
    "# About Data\n",
    "## Описания файлов\n",
    "\n",
    "- train.csv - обучающий набор\n",
    "- test.csv - набор тестов\n",
    "- data_description.txt — полное описание каждого столбца, изначально подготовленное Дином Де Коком, но слегка отредактированное в соответствии с используемыми здесь названиями столбцов\n",
    "- sample_submission.csv — эталонная подача данных для линейной регрессии по году и месяцу продажи, площади участка и количеству спален\n",
    "\n",
    "## Поля данных\n",
    "Вот краткий обзор того, что вы найдёте в файле с описанием данных.\n",
    "\n",
    "- Цена продажи — цена продажи недвижимости в долларах. Это целевая переменная, которую вы пытаетесь спрогнозировать.\n",
    "- MSSubClass: Строительный класс\n",
    "- MSZoning: Общая классификация зонирования\n",
    "- LotFrontage: Линейные метры улицы, соединенные с недвижимостью\n",
    "- LotArea: Размер участка в квадратных футах\n",
    "- Street: Тип подъездной дороги\n",
    "- Alley: Тип доступа к переулку\n",
    "- LotShape: Общая форма собственности\n",
    "- Land Countur: Ровность участка\n",
    "- Utilities: Тип доступных утилит\n",
    "- LotConfig: Конфигурация лота\n",
    "- LandSlope: Уклон участка\n",
    "- Окрестности: Физические местоположения в пределах города Эймс\n",
    "- Условие 1: Близость к главной дороге или железной дороге\n",
    "- Условие 2: близость к главной дороге или железной дороге (если есть вторая)\n",
    "- Тип здания: Тип жилого помещения\n",
    "- Стиль дома: Стиль жилья\n",
    "- Общее качество: Общее качество материала и отделки\n",
    "- Общее состояние: Общая оценка состояния\n",
    "- Год постройки: Первоначальная дата постройки\n",
    "- YearRemodAdd: Дата реконструкции\n",
    "- Стиль крыши: Тип крыши\n",
    "- Кровельный материал: Кровельный материал\n",
    "- Экстерьер1st: Наружное покрытие дома\n",
    "- Внешняя отделка 2-го уровня: внешняя отделка дома (если используется более одного материала)\n",
    "- MasVnrType: Тип облицовки каменной кладки\n",
    "- Площадь облицовки: Площадь облицовки каменной кладки в квадратных футах\n",
    "- Внешнее качество: Качество наружных материалов\n",
    "- Внешний вид: Текущее состояние материала на внешней поверхности\n",
    "- Фундамент: Тип фундамента\n",
    "- BsmtQual: Высота подвала\n",
    "- BsmtCond: Общее состояние подвала\n",
    "- BsmtExposure: Стены подвала на уровне выхода или сада\n",
    "- BsmtFinType1: Качество отделки подвала\n",
    "- BsmtFinSF1: Готовые квадратные футы типа 1\n",
    "- BsmtFinType2: качество второй готовой поверхности (при наличии)\n",
    "- BsmtFinSF2: Готовые квадратные футы 2-го типа\n",
    "- BsmtUnfSF: Незаконченные квадратные футы подвальной площади\n",
    "- TotalBsmtSF: Общая площадь подвала в квадратных футах\n",
    "- Отопление: Тип отопления\n",
    "- HeatingQC: Качество и состояние отопления\n",
    "- CentralAir: Центральное кондиционирование воздуха\n",
    "- Электрическое: Электрическая система\n",
    "- 1stFlrSF: Площадь первого этажа в квадратных футах\n",
    "- 2ndFlrSF: Площадь второго этажа в квадратных футах\n",
    "- Низкое качество: Квадратные метры с отделкой низкого качества (все этажи)\n",
    "- Жилая площадь: Надземная жилая площадь в квадратных футах\n",
    "- BsmtFullBath: Ванные комнаты на цокольном этаже\n",
    "- BsmtHalfBath: Половина ванных комнат на цокольном этаже\n",
    "- Полная ванна: Полноценные ванные комнаты высшего класса\n",
    "- Полуванны: Полуванны высшего сорта\n",
    "- Спальня: Количество спален выше уровня цокольного этажа\n",
    "- Кухня: Количество кухонь\n",
    "- Качество кухни: Качество кухни\n",
    "- TotRmsAbvGrd: общее количество комнат над уровнем земли (без учёта ванных комнат)\n",
    "- Функциональный: Рейтинг функциональности дома\n",
    "- Камины: Количество каминов\n",
    "- FireplaceQu: Качество камина\n",
    "- Тип гаража: Расположение гаража\n",
    "- GarageYrBlt: Год постройки гаража\n",
    "- GarageFinish: Внутренняя отделка гаража\n",
    "- Гаражные машины: Размер гаража в пересчете на вместимость автомобиля\n",
    "- Площадь гаража: Размер гаража в квадратных футах\n",
    "- GarageQual: Качество гаража\n",
    "- GarageCond: Состояние гаража\n",
    "- Асфальтированная подъездная дорога: Асфальтированная подъездная дорожка\n",
    "- WoodDeckSF: Площадь деревянного настила в квадратных футах\n",
    "- OpenPorchSF: Площадь открытой веранды в квадратных футах\n",
    "- Закрытая веранда: Площадь закрытой веранды в квадратных футах\n",
    "- 3SsnPorch: Площадь веранды на три сезона в квадратных футах\n",
    "- ScreenPorch: Площадь крыльца с экраном в квадратных футах\n",
    "- Площадь бассейна: Площадь бассейна в квадратных футах\n",
    "- PoolQC: Качество пула\n",
    "- Забор: Качество забора\n",
    "- Неправильная функция: Разные функции, не включенные в другие категории\n",
    "- MiscVal: $ Значение разной функции\n",
    "- MoSold: Месяц Продано\n",
    "- Год продажи: Год Продажи\n",
    "- Тип продажи: Тип продажи\n",
    "- Условия продажи: Условия продажи"
   ]
  },
  {
   "cell_type": "markdown",
   "metadata": {},
   "source": [
    "# Code"
   ]
  },
  {
   "cell_type": "code",
   "execution_count": 9,
   "metadata": {},
   "outputs": [],
   "source": [
    "import pandas as pd\n",
    "import numpy as np\n",
    "from sklearn.tree import DecisionTreeRegressor\n",
    "from sklearn.linear_model import LinearRegression\n",
    "from sklearn.metrics import mean_squared_error\n",
    "from sklearn.model_selection import train_test_split\n",
    "from sklearn.preprocessing import StandardScaler\n",
    "import matplotlib.pyplot as plt\n",
    "import seaborn as sns\n",
    "from sklearn.metrics import mean_absolute_error, mean_squared_error, r2_score\n",
    "from scipy.stats import skew"
   ]
  },
  {
   "cell_type": "code",
   "execution_count": 10,
   "metadata": {},
   "outputs": [],
   "source": [
    "train_path = 'data/Housing Prices Competition/train.csv'\n",
    "test_path = 'data/Housing Prices Competition/test.csv'\n",
    "sample_submission_path = 'data/Housing Prices Competition/sample_submission.csv'\n",
    "\n",
    "train_data = pd.read_csv(train_path)\n",
    "test_data = pd.read_csv(test_path)\n",
    "sample_submission_data = pd.read_csv(sample_submission_path)"
   ]
  },
  {
   "cell_type": "markdown",
   "metadata": {},
   "source": [
    "## info"
   ]
  },
  {
   "cell_type": "code",
   "execution_count": 11,
   "metadata": {},
   "outputs": [
    {
     "name": "stdout",
     "output_type": "stream",
     "text": [
      "<class 'pandas.core.frame.DataFrame'>\n",
      "RangeIndex: 1460 entries, 0 to 1459\n",
      "Data columns (total 81 columns):\n",
      " #   Column         Non-Null Count  Dtype  \n",
      "---  ------         --------------  -----  \n",
      " 0   Id             1460 non-null   int64  \n",
      " 1   MSSubClass     1460 non-null   int64  \n",
      " 2   MSZoning       1460 non-null   object \n",
      " 3   LotFrontage    1201 non-null   float64\n",
      " 4   LotArea        1460 non-null   int64  \n",
      " 5   Street         1460 non-null   object \n",
      " 6   Alley          91 non-null     object \n",
      " 7   LotShape       1460 non-null   object \n",
      " 8   LandContour    1460 non-null   object \n",
      " 9   Utilities      1460 non-null   object \n",
      " 10  LotConfig      1460 non-null   object \n",
      " 11  LandSlope      1460 non-null   object \n",
      " 12  Neighborhood   1460 non-null   object \n",
      " 13  Condition1     1460 non-null   object \n",
      " 14  Condition2     1460 non-null   object \n",
      " 15  BldgType       1460 non-null   object \n",
      " 16  HouseStyle     1460 non-null   object \n",
      " 17  OverallQual    1460 non-null   int64  \n",
      " 18  OverallCond    1460 non-null   int64  \n",
      " 19  YearBuilt      1460 non-null   int64  \n",
      " 20  YearRemodAdd   1460 non-null   int64  \n",
      " 21  RoofStyle      1460 non-null   object \n",
      " 22  RoofMatl       1460 non-null   object \n",
      " 23  Exterior1st    1460 non-null   object \n",
      " 24  Exterior2nd    1460 non-null   object \n",
      " 25  MasVnrType     588 non-null    object \n",
      " 26  MasVnrArea     1452 non-null   float64\n",
      " 27  ExterQual      1460 non-null   object \n",
      " 28  ExterCond      1460 non-null   object \n",
      " 29  Foundation     1460 non-null   object \n",
      " 30  BsmtQual       1423 non-null   object \n",
      " 31  BsmtCond       1423 non-null   object \n",
      " 32  BsmtExposure   1422 non-null   object \n",
      " 33  BsmtFinType1   1423 non-null   object \n",
      " 34  BsmtFinSF1     1460 non-null   int64  \n",
      " 35  BsmtFinType2   1422 non-null   object \n",
      " 36  BsmtFinSF2     1460 non-null   int64  \n",
      " 37  BsmtUnfSF      1460 non-null   int64  \n",
      " 38  TotalBsmtSF    1460 non-null   int64  \n",
      " 39  Heating        1460 non-null   object \n",
      " 40  HeatingQC      1460 non-null   object \n",
      " 41  CentralAir     1460 non-null   object \n",
      " 42  Electrical     1459 non-null   object \n",
      " 43  1stFlrSF       1460 non-null   int64  \n",
      " 44  2ndFlrSF       1460 non-null   int64  \n",
      " 45  LowQualFinSF   1460 non-null   int64  \n",
      " 46  GrLivArea      1460 non-null   int64  \n",
      " 47  BsmtFullBath   1460 non-null   int64  \n",
      " 48  BsmtHalfBath   1460 non-null   int64  \n",
      " 49  FullBath       1460 non-null   int64  \n",
      " 50  HalfBath       1460 non-null   int64  \n",
      " 51  BedroomAbvGr   1460 non-null   int64  \n",
      " 52  KitchenAbvGr   1460 non-null   int64  \n",
      " 53  KitchenQual    1460 non-null   object \n",
      " 54  TotRmsAbvGrd   1460 non-null   int64  \n",
      " 55  Functional     1460 non-null   object \n",
      " 56  Fireplaces     1460 non-null   int64  \n",
      " 57  FireplaceQu    770 non-null    object \n",
      " 58  GarageType     1379 non-null   object \n",
      " 59  GarageYrBlt    1379 non-null   float64\n",
      " 60  GarageFinish   1379 non-null   object \n",
      " 61  GarageCars     1460 non-null   int64  \n",
      " 62  GarageArea     1460 non-null   int64  \n",
      " 63  GarageQual     1379 non-null   object \n",
      " 64  GarageCond     1379 non-null   object \n",
      " 65  PavedDrive     1460 non-null   object \n",
      " 66  WoodDeckSF     1460 non-null   int64  \n",
      " 67  OpenPorchSF    1460 non-null   int64  \n",
      " 68  EnclosedPorch  1460 non-null   int64  \n",
      " 69  3SsnPorch      1460 non-null   int64  \n",
      " 70  ScreenPorch    1460 non-null   int64  \n",
      " 71  PoolArea       1460 non-null   int64  \n",
      " 72  PoolQC         7 non-null      object \n",
      " 73  Fence          281 non-null    object \n",
      " 74  MiscFeature    54 non-null     object \n",
      " 75  MiscVal        1460 non-null   int64  \n",
      " 76  MoSold         1460 non-null   int64  \n",
      " 77  YrSold         1460 non-null   int64  \n",
      " 78  SaleType       1460 non-null   object \n",
      " 79  SaleCondition  1460 non-null   object \n",
      " 80  SalePrice      1460 non-null   int64  \n",
      "dtypes: float64(3), int64(35), object(43)\n",
      "memory usage: 924.0+ KB\n",
      "None\n"
     ]
    }
   ],
   "source": [
    "print(train_data.info())"
   ]
  },
  {
   "cell_type": "markdown",
   "metadata": {},
   "source": [
    "## One-Hot Encoding - метод кодирования категориальных переменных для всех"
   ]
  },
  {
   "cell_type": "code",
   "execution_count": 13,
   "metadata": {},
   "outputs": [
    {
     "name": "stdout",
     "output_type": "stream",
     "text": [
      "Index(['Id', 'MSSubClass', 'LotFrontage', 'LotArea', 'OverallQual',\n",
      "       'OverallCond', 'YearBuilt', 'YearRemodAdd', 'MasVnrArea', 'BsmtFinSF1',\n",
      "       ...\n",
      "       'SaleType_ConLw', 'SaleType_New', 'SaleType_Oth', 'SaleType_WD',\n",
      "       'SaleCondition_Abnorml', 'SaleCondition_AdjLand',\n",
      "       'SaleCondition_Alloca', 'SaleCondition_Family', 'SaleCondition_Normal',\n",
      "       'SaleCondition_Partial'],\n",
      "      dtype='object', length=289)\n"
     ]
    }
   ],
   "source": [
    "non_numeric_cols = train_data.select_dtypes(exclude=['number']).columns\n",
    "encoded_data = pd.get_dummies(train_data, columns=non_numeric_cols)\n",
    "print(encoded_data.columns)"
   ]
  },
  {
   "cell_type": "code",
   "execution_count": 8,
   "metadata": {},
   "outputs": [],
   "source": [
    "non_numeric_cols = train_data.select_dtypes(exclude=['number']).columns\n",
    "\n",
    "for col in non_numeric_cols:\n",
    "    train_data[col].fillna(train_data[col].mode())\n",
    "\n",
    "new_cols = []\n",
    "\n",
    "for col in non_numeric_cols:\n",
    "    values = train_data[col].unique()\n",
    "    for value in values:\n",
    "        if value is np.nan:\n",
    "            continue\n",
    "        new_col = f\"{col} {value}\"\n",
    "        train_data[new_col] = (train_data[col] == value).astype(int)\n",
    "        new_cols.append(new_col)"
   ]
  },
  {
   "cell_type": "code",
   "execution_count": null,
   "metadata": {},
   "outputs": [],
   "source": [
    "numeric_cols = train_data.select_dtypes(include=['number']).columns\n",
    "unique_cols = list(set(list(set(new_cols)) + list(set(numeric_cols))))\n",
    "print(numeric_cols.to_list())\n",
    "print(unique_cols)"
   ]
  },
  {
   "cell_type": "markdown",
   "metadata": {},
   "source": [
    "## mean - заполнение пустых значений средним"
   ]
  },
  {
   "cell_type": "code",
   "execution_count": 27,
   "metadata": {},
   "outputs": [],
   "source": [
    "columns = encoded_data.isnull().any().index.to_list()\n",
    "\n",
    "for col, has_null in zip(columns, encoded_data.isnull().any().to_list()):\n",
    "    if has_null:\n",
    "        encoded_data[col].fillna(encoded_data[col].mode())"
   ]
  },
  {
   "cell_type": "code",
   "execution_count": 14,
   "metadata": {},
   "outputs": [
    {
     "ename": "NameError",
     "evalue": "name 'numeric_cols' is not defined",
     "output_type": "error",
     "traceback": [
      "\u001b[0;31m---------------------------------------------------------------------------\u001b[0m",
      "\u001b[0;31mNameError\u001b[0m                                 Traceback (most recent call last)",
      "Cell \u001b[0;32mIn[14], line 2\u001b[0m\n\u001b[1;32m      1\u001b[0m cols_has_nan \u001b[38;5;241m=\u001b[39m []\n\u001b[0;32m----> 2\u001b[0m \u001b[38;5;28;01mfor\u001b[39;00m col, has_nan \u001b[38;5;129;01min\u001b[39;00m \u001b[38;5;28mzip\u001b[39m(\u001b[43mnumeric_cols\u001b[49m, train_data[numeric_cols]\u001b[38;5;241m.\u001b[39misnull()\u001b[38;5;241m.\u001b[39many()\u001b[38;5;241m.\u001b[39mto_list()):\n\u001b[1;32m      3\u001b[0m     \u001b[38;5;28;01mif\u001b[39;00m has_nan:\n\u001b[1;32m      4\u001b[0m         cols_has_nan\u001b[38;5;241m.\u001b[39mappend(col)\n",
      "\u001b[0;31mNameError\u001b[0m: name 'numeric_cols' is not defined"
     ]
    }
   ],
   "source": [
    "# свой (пропуск)\n",
    "cols_has_nan = []\n",
    "for col, has_nan in zip(numeric_cols, train_data[numeric_cols].isnull().any().to_list()):\n",
    "    if has_nan:\n",
    "        cols_has_nan.append(col)\n",
    "\n",
    "for col in cols_has_nan:\n",
    "    train_data[col].fillna(train_data[col].mean(), inplace=True)"
   ]
  },
  {
   "cell_type": "code",
   "execution_count": 79,
   "metadata": {},
   "outputs": [],
   "source": [
    "train_features = train_data[unique_cols]\n",
    "correlation_matrix = train_features.corr()"
   ]
  },
  {
   "cell_type": "markdown",
   "metadata": {},
   "source": [
    "## Логарифмирование данных"
   ]
  },
  {
   "cell_type": "code",
   "execution_count": null,
   "metadata": {},
   "outputs": [],
   "source": [
    "# Вычисляем скошенность\n",
    "numeric_features = train_features[numeric_cols].select_dtypes(include=['number'])\n",
    "skewness = numeric_features.apply(lambda x: skew(x.dropna())).sort_values(ascending=False)\n",
    "\n",
    "# Выбираем признаки с сильной скошенностью\n",
    "features_skewed = skewness[abs(skewness) > 5]\n",
    "print(\"Сильно скошенные признаки:\")\n",
    "print(features_skewed)\n",
    "print(len(features_skewed))\n",
    "# print(len(train_features.columns))\n",
    "\n",
    "for feature in features_skewed.index:\n",
    "    if feature == 'SalePrice':\n",
    "        continue\n",
    "    train_features[feature] = np.log1p(train_features[feature]) "
   ]
  },
  {
   "cell_type": "markdown",
   "metadata": {},
   "source": [
    "## Выявление прикзнаков с высокой корреляцией"
   ]
  },
  {
   "cell_type": "code",
   "execution_count": null,
   "metadata": {},
   "outputs": [],
   "source": [
    "# threshold = 0.05  # Установите желаемый порог корреляции\n",
    "threshold = 0.5\n",
    "target_variable = 'SalePrice'  # Замените на ваше название целевой переменной\n",
    "\n",
    "high_correlation_features = correlation_matrix[abs(correlation_matrix[target_variable]) > threshold]\n",
    "high_correlation_features = high_correlation_features[high_correlation_features.index != target_variable] #исключаем саму целевую переменную\n",
    "\n",
    "print(\"Признаки с корреляцией выше\", threshold, \"с\", target_variable + \":\")\n",
    "print(high_correlation_features.index)"
   ]
  },
  {
   "cell_type": "code",
   "execution_count": null,
   "metadata": {},
   "outputs": [],
   "source": [
    "features_new = ['BsmtUnfSF', 'TotRmsAbvGrd', 'YearRemodAdd', 'LotFrontage', 'FullBath', 'YearBuilt', 'LotArea',\n",
    "'GarageArea', 'GarageCars', '1stFlrSF', 'BsmtFinSF1', '2ndFlrSF', 'TotalBsmtSF', 'GrLivArea', 'OverallQual', 'Fireplaces', \n",
    "'OpenPorchSF', 'GarageYrBlt', 'MasVnrArea', 'WoodDeckSF', 'HalfBath']\n",
    "\n",
    "\n",
    "features_with_important = list(set(features_new + high_correlation_features.index.to_list()))\n",
    "print(len(features_with_important))\n",
    "print(len(high_correlation_features.index.to_list()))\n",
    "print(features_with_important)"
   ]
  },
  {
   "cell_type": "code",
   "execution_count": null,
   "metadata": {},
   "outputs": [],
   "source": [
    "has_nan = []\n",
    "for col in features_with_important:\n",
    "    has_nan.append(train_data[col].isnull().any())\n",
    "\n",
    "print(True in has_nan)"
   ]
  },
  {
   "cell_type": "markdown",
   "metadata": {},
   "source": [
    "## Моделирование"
   ]
  },
  {
   "cell_type": "code",
   "execution_count": 98,
   "metadata": {},
   "outputs": [],
   "source": [
    "# features_for_model = high_correlation_features.index.to_list()\n",
    "features_for_model = features_with_important\n",
    "X = train_features[features_for_model]\n",
    "y = train_features[target_variable]\n",
    "\n",
    "X_train, X_test, y_train, y_test = train_test_split(X, y, test_size=0.2, random_state=42)"
   ]
  },
  {
   "cell_type": "code",
   "execution_count": 91,
   "metadata": {},
   "outputs": [],
   "source": [
    "model_linear = LinearRegression()\n",
    "model_linear.fit(X_train, y_train)\n",
    "y_pred_linear = model_linear.predict(X_test)"
   ]
  },
  {
   "cell_type": "code",
   "execution_count": null,
   "metadata": {},
   "outputs": [],
   "source": [
    "mae_linear = mean_absolute_error(y_test, y_pred_linear)\n",
    "mse_linear = mean_squared_error(y_test, y_pred_linear)\n",
    "r2_linear = r2_score(y_test, y_pred_linear)\n",
    "\n",
    "print(\"MAE:\", mae_linear)\n",
    "print(\"MSE:\", mse_linear)\n",
    "print(\"R²:\", r2_linear)"
   ]
  },
  {
   "cell_type": "code",
   "execution_count": 39,
   "metadata": {},
   "outputs": [],
   "source": [
    "from sklearn.ensemble import RandomForestRegressor\n",
    "\n",
    "model_forest = RandomForestRegressor(n_estimators=100, random_state=42)\n",
    "model_forest.fit(X_train, y_train)\n",
    "y_pred_forest = model_forest.predict(X_test)"
   ]
  },
  {
   "cell_type": "code",
   "execution_count": null,
   "metadata": {},
   "outputs": [],
   "source": [
    "from sklearn.metrics import mean_absolute_error, mean_squared_error, r2_score\n",
    "\n",
    "mae_forest = mean_absolute_error(y_test, y_pred_forest)\n",
    "mse_forest = mean_squared_error(y_test, y_pred_forest)\n",
    "r2_forest = r2_score(y_test, y_pred_forest)\n",
    "\n",
    "print(\"MAE:\", mae_forest)\n",
    "print(\"MSE:\", mse_forest)\n",
    "print(\"R²:\", r2_forest)"
   ]
  },
  {
   "cell_type": "code",
   "execution_count": 94,
   "metadata": {},
   "outputs": [],
   "source": [
    "scaler = StandardScaler()\n",
    "X_scaled = scaler.fit_transform(X)\n",
    "y_log = np.log(train_features[target_variable])\n",
    "\n",
    "X_train_linear_log, X_test_linear_log, y_train_linear_log, y_test_linear_log = train_test_split(X, y_log, test_size=0.2, random_state=42)\n"
   ]
  },
  {
   "cell_type": "code",
   "execution_count": 99,
   "metadata": {},
   "outputs": [],
   "source": [
    "model_linear_log = LinearRegression()\n",
    "model_linear_log.fit(X_train_linear_log, y_train_linear_log)\n",
    "y_pred_linear_log = model_linear_log.predict(X_test_linear_log)"
   ]
  },
  {
   "cell_type": "code",
   "execution_count": null,
   "metadata": {},
   "outputs": [],
   "source": [
    "mae_linear_log = mean_absolute_error(y_test, y_pred_linear_log)\n",
    "mse_linear_log = mean_squared_error(y_test, y_pred_linear_log)\n",
    "r2_linear_log = r2_score(y_test, y_pred_linear_log)\n",
    "\n",
    "print(\"MAE:\", mae_linear_log)\n",
    "print(\"MSE:\", mse_linear_log)\n",
    "print(\"R²:\", r2_linear_log)"
   ]
  },
  {
   "cell_type": "code",
   "execution_count": null,
   "metadata": {},
   "outputs": [],
   "source": [
    "from sklearn.ensemble import GradientBoostingRegressor\n",
    "\n",
    "gb = GradientBoostingRegressor(n_estimators=100, learning_rate=0.1, max_depth=3)\n",
    "gb.fit(X_train, y_train)\n",
    "\n",
    "# Оценка точности\n",
    "mse_train = mean_squared_error(y_train, gb.predict(X_train))\n",
    "mse_test = mean_squared_error(y_test, gb.predict(X_test))\n",
    "\n",
    "print(f\"Train MSE: {mse_train}\")\n",
    "print(f\"Test MSE: {mse_test}\")"
   ]
  },
  {
   "cell_type": "code",
   "execution_count": null,
   "metadata": {},
   "outputs": [],
   "source": [
    "from sklearn.tree import DecisionTreeRegressor\n",
    "\n",
    "clf = DecisionTreeRegressor()\n",
    "\n",
    "clf.fit(X_train, y_train)\n",
    "\n",
    "mae_linear_tree = mean_absolute_error(y_test, clf.predict(X_test))\n",
    "mse_linear_tree = mean_squared_error(y_test, clf.predict(X_test))\n",
    "r2_linear_tree = r2_score(y_test, clf.predict(X_test))\n",
    "\n",
    "print(\"MAE:\", mae_linear_tree)\n",
    "print(\"MSE:\", mse_linear_tree)\n",
    "print(\"R²:\", r2_linear_tree)\n",
    "# mse_train_tree = mean_squared_error(y_test, clf.predict(X_test))"
   ]
  },
  {
   "cell_type": "code",
   "execution_count": null,
   "metadata": {},
   "outputs": [],
   "source": [
    "import lightgbm as lgb\n",
    "from sklearn.metrics import mean_squared_error\n",
    "import numpy as np\n",
    "\n",
    "# Создание модели\n",
    "model = lgb.LGBMRegressor(\n",
    "    boosting_type='gbdt',\n",
    "    n_estimators=1000,\n",
    "    learning_rate=0.05,\n",
    "    max_depth=-1,\n",
    "    num_leaves=31,\n",
    "    random_state=42\n",
    ")\n",
    "\n",
    "# Обучение модели\n",
    "model.fit(X_train, y_train, eval_set=[(X_test, y_test)], eval_metric='rmse', early_stopping_rounds=50, verbose=10)\n",
    "\n",
    "# Предсказание на валидационных данных\n",
    "y_pred = model.predict(X_test)\n",
    "rmse = np.sqrt(mean_squared_error(y_test, y_pred))\n",
    "print(\"RMSE:\", rmse)\n"
   ]
  },
  {
   "cell_type": "code",
   "execution_count": null,
   "metadata": {},
   "outputs": [],
   "source": [
    "from sklearn.tree import DecisionTreeClassifier\n",
    "from sklearn.datasets import make_classification\n",
    "\n",
    "# features_for_model = features_with_important\n",
    "# X = train_features[features_for_model]\n",
    "# y = train_features[target_variable]\n",
    "\n",
    "# X_train, X_test, y_train, y_test = train_test_split(X, y, test_size=0.2, random_state=42)\n",
    "\n",
    "X_ = np.linspace(0, 10, 100).reshape(-1, 1)  # Фичи\n",
    "y_ = 2 * np.sin(X_).ravel() + np.random.normal(0, 0.5, X_.shape[0])  # Целевая переменная\n",
    "print(X_)\n",
    "print(y_)"
   ]
  },
  {
   "cell_type": "code",
   "execution_count": null,
   "metadata": {},
   "outputs": [],
   "source": [
    "plt.scatter(X, y, label=\"Data\", alpha=0.6)\n",
    "plt.xlabel(\"X\")\n",
    "plt.ylabel(\"y\")\n",
    "plt.title(\"Generated Data for Regression\")\n",
    "plt.legend()\n",
    "plt.show()"
   ]
  },
  {
   "cell_type": "code",
   "execution_count": null,
   "metadata": {},
   "outputs": [],
   "source": [
    "train_features_for_matrix = train_data[high_correlation_features.index.to_list()]\n",
    "correlation_matrix = train_features_for_matrix.corr()\n",
    "\n",
    "plt.figure(figsize=(20, 20))\n",
    "sns.heatmap(correlation_matrix, annot=True, cmap='coolwarm')\n",
    "plt.title('Корреляционная матрица')\n",
    "plt.show()"
   ]
  }
 ],
 "metadata": {
  "kernelspec": {
   "display_name": "venv",
   "language": "python",
   "name": "python3"
  },
  "language_info": {
   "codemirror_mode": {
    "name": "ipython",
    "version": 3
   },
   "file_extension": ".py",
   "mimetype": "text/x-python",
   "name": "python",
   "nbconvert_exporter": "python",
   "pygments_lexer": "ipython3",
   "version": "3.12.3"
  }
 },
 "nbformat": 4,
 "nbformat_minor": 2
}

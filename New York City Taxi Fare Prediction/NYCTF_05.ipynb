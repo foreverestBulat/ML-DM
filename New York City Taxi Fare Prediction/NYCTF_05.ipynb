{
 "cells": [
  {
   "cell_type": "code",
   "execution_count": null,
   "metadata": {
    "vscode": {
     "languageId": "plaintext"
    }
   },
   "outputs": [],
   "source": [
    "import tensorflow as tf\n",
    "from tensorflow import keras\n",
    "from tensorflow.keras import layers\n",
    "\n",
    "# Создаем модель нейросети\n",
    "model = keras.Sequential([\n",
    "    layers.Dense(64, activation=\"relu\", input_shape=(X_train.shape[1],)),\n",
    "    layers.Dense(32, activation=\"relu\"),\n",
    "    layers.Dense(1)  # Один выход — цена поездки\n",
    "])\n",
    "\n",
    "# Компилируем модель\n",
    "model.compile(optimizer=\"adam\", loss=\"mse\", metrics=[\"mae\"])\n",
    "\n",
    "# Обучаем модель\n",
    "model.fit(X_train, y_train, epochs=50, batch_size=32, validation_data=(X_test, y_test))\n"
   ]
  }
 ],
 "metadata": {
  "language_info": {
   "name": "python"
  }
 },
 "nbformat": 4,
 "nbformat_minor": 2
}

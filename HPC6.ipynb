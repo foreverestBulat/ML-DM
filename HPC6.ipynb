{
 "cells": [
  {
   "cell_type": "code",
   "execution_count": null,
   "metadata": {},
   "outputs": [],
   "source": [
    "import pandas as pd\n",
    "\n",
    "train_path = 'data/Housing Prices Competition/train.csv'\n",
    "test_path = 'data/Housing Prices Competition/test.csv'\n",
    "sample_submission_path = 'data/Housing Prices Competition/sample_submission.csv'\n",
    "\n",
    "train_data = pd.read_csv(train_path)\n",
    "test_data = pd.read_csv(test_path)\n",
    "sample_submission_data = pd.read_csv(sample_submission_path)\n",
    "\n",
    "\n",
    "target_variable = 'SalePrice'\n",
    "\n",
    "X = train_data.drop(columns=[target_variable])\n",
    "y = train_data[target_variable]\n",
    "\n",
    "\n",
    "from sklearn.model_selection import train_test_split\n",
    "\n",
    "X_train, X_test, y_train, y_test = train_test_split(X, y, test_size=0.2, random_state=42)\n",
    "\n",
    "from sklearn.model_selection import GridSearchCV\n",
    "from catboost import CatBoostRegressor\n",
    "\n",
    "categorical_features = X_train.select_dtypes(include=['object', 'category']).columns.to_list()\n",
    "# Определение модели\n",
    "model = CatBoostRegressor(cat_features=categorical_features, verbose=0)\n",
    "\n",
    "# Параметры для перебора\n",
    "param_grid = {\n",
    "    'iterations': [500, 1000],\n",
    "    'depth': [4, 6, 8],\n",
    "    'learning_rate': [0.01, 0.05, 0.1],\n",
    "    'l2_leaf_reg': [1, 3, 5, 7]\n",
    "}\n",
    "\n",
    "# Поиск гиперпараметров\n",
    "grid_search = GridSearchCV(estimator=model, param_grid=param_grid, scoring='neg_mean_squared_error', cv=3, verbose=3)\n",
    "grid_search.fit(X_train, y_train)\n",
    "\n",
    "# Лучшая модель\n",
    "best_model = grid_search.best_estimator_\n",
    "print(\"Лучшие параметры:\", grid_search.best_params_)\n",
    "\n"
   ]
  }
 ],
 "metadata": {
  "kernelspec": {
   "display_name": "venv",
   "language": "python",
   "name": "python3"
  },
  "language_info": {
   "name": "python",
   "version": "3.12.3"
  }
 },
 "nbformat": 4,
 "nbformat_minor": 2
}

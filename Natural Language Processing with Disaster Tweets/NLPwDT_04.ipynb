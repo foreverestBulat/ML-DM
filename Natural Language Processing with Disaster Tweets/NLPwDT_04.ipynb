{
 "cells": [
  {
   "cell_type": "code",
   "execution_count": 1,
   "metadata": {},
   "outputs": [
    {
     "name": "stdout",
     "output_type": "stream",
     "text": [
      "0:\tlearn: 0.6787966\ttest: 0.6787842\tbest: 0.6787842 (0)\ttotal: 190ms\tremaining: 4m 44s\n",
      "100:\tlearn: 0.5026431\ttest: 0.5238042\tbest: 0.5237142 (99)\ttotal: 6.99s\tremaining: 1m 36s\n",
      "200:\tlearn: 0.4533127\ttest: 0.4965120\tbest: 0.4963683 (197)\ttotal: 14s\tremaining: 1m 30s\n",
      "300:\tlearn: 0.4214785\ttest: 0.4871264\tbest: 0.4871264 (300)\ttotal: 20.7s\tremaining: 1m 22s\n",
      "400:\tlearn: 0.3986060\ttest: 0.4835300\tbest: 0.4828245 (373)\ttotal: 27.7s\tremaining: 1m 15s\n",
      "500:\tlearn: 0.3786636\ttest: 0.4800726\tbest: 0.4799721 (498)\ttotal: 34.4s\tremaining: 1m 8s\n",
      "600:\tlearn: 0.3630932\ttest: 0.4776091\tbest: 0.4775965 (581)\ttotal: 41.5s\tremaining: 1m 2s\n",
      "bestTest = 0.4774586708\n",
      "bestIteration = 614\n",
      "Shrink model to first 615 iterations.\n",
      "Accuracy: 0.768220617202889\n",
      "              precision    recall  f1-score   support\n",
      "\n",
      "           0       0.77      0.86      0.81       869\n",
      "           1       0.77      0.65      0.71       654\n",
      "\n",
      "    accuracy                           0.77      1523\n",
      "   macro avg       0.77      0.75      0.76      1523\n",
      "weighted avg       0.77      0.77      0.76      1523\n",
      "\n"
     ]
    }
   ],
   "source": [
    "import pandas as pd\n",
    "import numpy as np\n",
    "from catboost import CatBoostClassifier, Pool\n",
    "from sklearn.model_selection import train_test_split\n",
    "from sklearn.metrics import classification_report, accuracy_score\n",
    "from sklearn.feature_extraction.text import TfidfVectorizer\n",
    "\n",
    "# Загрузка данных\n",
    "train_path = 'nlp-getting-started/train.csv'\n",
    "test_path = 'nlp-getting-started/test.csv'\n",
    "ss_path = 'nlp-getting-started/sample_submission.csv'\n",
    "\n",
    "train_data = pd.read_csv(train_path)\n",
    "test_data = pd.read_csv(test_path)\n",
    "ss_data = pd.read_csv(ss_path)\n",
    "\n",
    "# Заполнение пропусков\n",
    "train_data['keyword'] = train_data['keyword'].fillna('missing')\n",
    "train_data['location'] = train_data['location'].fillna('missing')\n",
    "\n",
    "test_data['keyword'] = test_data['keyword'].fillna('missing')\n",
    "test_data['location'] = test_data['location'].fillna('missing')\n",
    "\n",
    "# Конкатенация текстовых столбцов\n",
    "train_data['full_text'] = train_data['keyword'] + ' ' + train_data['location'] + ' ' + train_data['text']\n",
    "test_data['full_text'] = test_data['keyword'] + ' ' + test_data['location'] + ' ' + test_data['text']\n",
    "\n",
    "# Целевой столбец\n",
    "X = train_data['full_text']\n",
    "y = train_data['target']\n",
    "\n",
    "X_test = test_data['full_text']\n",
    "\n",
    "X_train, X_val, y_train, y_val = train_test_split(X, y, test_size=0.2, random_state=42, stratify=y)\n",
    "\n",
    "\n",
    "# Initialize TF-IDF Vectorizer\n",
    "tfidf_vectorizer = TfidfVectorizer(max_features=5000,  # Adjust as needed\n",
    "                                   ngram_range=(1, 2), # Consider unigrams and bigrams\n",
    "                                   stop_words='english') \n",
    "\n",
    "# Fit and transform the training data\n",
    "X_train_tfidf = tfidf_vectorizer.fit_transform(X_train).toarray()\n",
    "X_val_tfidf = tfidf_vectorizer.transform(X_val).toarray()\n",
    "X_test_tfidf = tfidf_vectorizer.transform(X_test).toarray()\n",
    "\n",
    "# Convert to DataFrames (for Pool object)\n",
    "X_train_tfidf_df = pd.DataFrame(X_train_tfidf, columns=tfidf_vectorizer.get_feature_names_out())\n",
    "X_val_tfidf_df = pd.DataFrame(X_val_tfidf, columns=tfidf_vectorizer.get_feature_names_out())\n",
    "X_test_tfidf_df = pd.DataFrame(X_test_tfidf, columns=tfidf_vectorizer.get_feature_names_out())\n",
    "\n",
    "\n",
    "# Create Pool objects\n",
    "train_pool = Pool(data=X_train_tfidf_df, label=y_train)\n",
    "val_pool = Pool(data=X_val_tfidf_df, label=y_val)\n",
    "test_pool = Pool(data=X_test_tfidf_df)\n",
    "\n",
    "\n",
    "\n",
    "# Создание модели\n",
    "model = CatBoostClassifier(\n",
    "    iterations=1500,\n",
    "    learning_rate=0.1,\n",
    "    depth=6,\n",
    "    loss_function='Logloss',\n",
    "    verbose=100,\n",
    "    task_type='GPU'  # Замените на 'GPU', если доступно\n",
    ")\n",
    "\n",
    "# Обучение модели\n",
    "model.fit(train_pool, eval_set=val_pool, early_stopping_rounds=50)\n",
    "\n",
    "# Предсказания и метрики\n",
    "val_preds = model.predict(val_pool)\n",
    "print(\"Accuracy:\", accuracy_score(y_val, val_preds))\n",
    "print(classification_report(y_val, val_preds))"
   ]
  },
  {
   "cell_type": "code",
   "execution_count": null,
   "metadata": {},
   "outputs": [
    {
     "name": "stdout",
     "output_type": "stream",
     "text": [
      "Submission file created: submission.csv\n"
     ]
    }
   ],
   "source": [
    "test_preds = model.predict(test_pool)\n",
    "\n",
    "# Создание DataFrame с предсказаниями для submission\n",
    "submission = pd.DataFrame({'id': test_data['id'], 'target': test_preds})\n",
    "\n",
    "submission.to_csv('preds/NLPwDT_04_pred_catboost_with_tokenizer.csv', index=False)\n",
    "print(\"Submission file created: submission.csv\")"
   ]
  }
 ],
 "metadata": {
  "kernelspec": {
   "display_name": "venv",
   "language": "python",
   "name": "python3"
  },
  "language_info": {
   "codemirror_mode": {
    "name": "ipython",
    "version": 3
   },
   "file_extension": ".py",
   "mimetype": "text/x-python",
   "name": "python",
   "nbconvert_exporter": "python",
   "pygments_lexer": "ipython3",
   "version": "3.12.3"
  }
 },
 "nbformat": 4,
 "nbformat_minor": 2
}
